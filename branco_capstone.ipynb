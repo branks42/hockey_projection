{
 "cells": [
  {
   "cell_type": "code",
   "execution_count": null,
   "id": "01607b03-dc5b-42b8-9edb-2f56c06d1195",
   "metadata": {},
   "outputs": [],
   "source": [
    "pip install pandas scikit-learn matplotlib rich"
   ]
  },
  {
   "cell_type": "code",
   "execution_count": null,
   "id": "75cbf794-bb18-48cc-be95-394ddfec43bc",
   "metadata": {},
   "outputs": [],
   "source": [
    "import pandas as pd  \n",
    "from sklearn.ensemble import RandomForestRegressor  \n",
    "from sklearn.preprocessing import OneHotEncoder  \n",
    "from sklearn.compose import ColumnTransformer\n",
    "from sklearn.metrics import mean_squared_error \n",
    "import numpy as np\n",
    "import matplotlib.pyplot as plt\n",
    "from mpl_toolkits.mplot3d import Axes3D\n",
    "\n",
    "from utilities import print_goalie_stats, print_skater_stats, show_nationality_options, show_position_options"
   ]
  },
  {
   "cell_type": "code",
   "execution_count": null,
   "id": "8c5e2585-8d0d-4f82-bc0b-542c76a2b232",
   "metadata": {},
   "outputs": [],
   "source": [
    "file_path = 'data/nhl_data.csv'  \n",
    "ndd = pd.read_csv(file_path)"
   ]
  },
  {
   "cell_type": "code",
   "execution_count": null,
   "id": "9e2ca04c-d9f8-4ad4-b747-34e849392266",
   "metadata": {},
   "outputs": [],
   "source": [
    "# This model is used to predict the number of games played, goals, assists, points, and plus_minus\n",
    "# You initialize the model with the number of trees you want to use, and a random state for reproducibility\n",
    "projection_model = RandomForestRegressor(n_estimators=100, random_state=42)  \n",
    "\n",
    "# ColumnTransformer allows you to apply different transformations to different columns in your dataset\n",
    "# In our case, we want to apply OneHotEncoding to the position and nationality columns, and leave the overall_pick and age columns as they are\n",
    "# OneHotEncoding is used to convert categorical data into a format that can be provided to ML algorithms to do a better job in prediction\n",
    "preprocessor = ColumnTransformer(  \n",
    "    transformers=[  \n",
    "        ('num', 'passthrough', [\"overall_pick\", \"age\"]),  \n",
    "        ('cat', OneHotEncoder(), ['position', 'nationality'])  \n",
    "    ])"
   ]
  },
  {
   "cell_type": "code",
   "execution_count": null,
   "id": "79128c63-f69a-452c-8702-8d308724e60a",
   "metadata": {},
   "outputs": [],
   "source": [
    "# Define the features and target variable\n",
    "x = ndd[[\"overall_pick\", \"position\", 'nationality', \"age\"]]  \n",
    "y = ndd[['year', 'to_year', 'games_played', 'goals', 'assists', 'points', 'plus_minus', 'goalie_games_played', 'goalie_wins', \n",
    "         'goalie_losses', 'goalie_ties_overtime', 'save_percentage', 'goals_against_average']]"
   ]
  },
  {
   "cell_type": "code",
   "execution_count": null,
   "id": "88ca11e9-a1b5-424f-9dc1-24aa0d29ee02",
   "metadata": {},
   "outputs": [],
   "source": [
    "# Create a scatter plot of draft position vs point totals, with different colors for each position (Forwards only)\n",
    "# only use some overall_pick, position and point_totals from ndd\n",
    "forward_plot = ndd[['overall_pick', 'position', 'points', 'games_played']]  \n",
    "forward_plot = forward_plot[forward_plot['position'].isin(['C', 'LW', 'RW'])]  \n",
    "forward_plot = forward_plot[forward_plot['games_played'] > 50]  \n",
    "  \n",
    "# Create a color dictionary for the positions  \n",
    "colors = {'C': 'red', 'LW': 'green', 'RW': 'blue'}  \n",
    "  \n",
    "fig = plt.figure(figsize=(10, 6))  \n",
    "ax = fig.add_subplot(111, projection='3d')  \n",
    "  \n",
    "for position in ['C', 'LW', 'RW']:    \n",
    "    ax.scatter(forward_plot['overall_pick'][forward_plot['position'] == position],     \n",
    "               forward_plot['points'][forward_plot['position'] == position],  \n",
    "               forward_plot['games_played'][forward_plot['position'] == position],  \n",
    "               color=colors[position],     \n",
    "               label=position)   \n",
    "  \n",
    "ax.set_title('NHL Draft Picks by Position (Forwards), Overall Pick, Points and Games Played')    \n",
    "ax.set_xlabel('Overall Pick')    \n",
    "ax.set_ylabel('Points')  \n",
    "ax.set_zlabel('Games Played')  \n",
    "ax.legend()    \n",
    "  \n",
    "plt.show() "
   ]
  },
  {
   "cell_type": "code",
   "execution_count": null,
   "id": "262757a2-96e1-46f6-a8f3-5b262e2db648",
   "metadata": {},
   "outputs": [],
   "source": [
    "# Create a chart of draft position vs plus_minus, (Defensemen only)\n",
    "# only use some overall_pick, position and point_totals from ndd\n",
    "defense_plot = ndd[['overall_pick', 'position', 'plus_minus', 'games_played']]  \n",
    "defense_plot = defense_plot[defense_plot['position'] == 'D']  \n",
    "defense_plot = defense_plot[defense_plot['games_played'] > 50]  \n",
    "  \n",
    "plt.figure(figsize=(10,6))  \n",
    "plt.scatter(defense_plot['overall_pick'], defense_plot['plus_minus'], color='blue', label='D')  \n",
    "  \n",
    "plt.title('NHL Draft Picks for Position (Defense), Overall Pick, and Plus/Minus')  \n",
    "plt.xlabel('Overall Pick')  \n",
    "plt.ylabel('Plus/Minus')  \n",
    "plt.legend()  # Add a legend  \n",
    "  \n",
    "plt.show()"
   ]
  },
  {
   "cell_type": "code",
   "execution_count": null,
   "id": "06a6362f-bded-4924-a26f-8edae390632d",
   "metadata": {},
   "outputs": [],
   "source": [
    "# Create a visualization of draft position vs goals against average, (Goalies only)\n",
    "# only use some overall_pick, position and goals_against_average from ndd\n",
    "goalie_plot = ndd[['overall_pick', 'position', 'goals_against_average', 'games_played']]  \n",
    "goalie_plot = goalie_plot[goalie_plot['position'] == 'G']  \n",
    "goalie_plot = goalie_plot[goalie_plot['games_played'] > 50]  \n",
    "  \n",
    "plt.figure(figsize=(10,6))  \n",
    "plt.scatter(goalie_plot['overall_pick'], goalie_plot['goals_against_average'], s=goalie_plot['games_played'], color='red', alpha=0.5)  \n",
    "  \n",
    "plt.title('NHL Draft Picks for Position (Goalie), Overall Pick, and Goals Against Average')  \n",
    "plt.xlabel('Overall Pick')  \n",
    "plt.ylabel('Goals Against Average')  \n",
    "  \n",
    "plt.show() "
   ]
  },
  {
   "cell_type": "code",
   "execution_count": null,
   "id": "9ec28575-0cf6-448a-aa06-a1fc3ee44521",
   "metadata": {},
   "outputs": [],
   "source": [
    "# Fit and transform X to the preprocessor\n",
    "x = preprocessor.fit_transform(x) "
   ]
  },
  {
   "cell_type": "code",
   "execution_count": null,
   "id": "a5c93bec-1637-4179-961d-060ede0166af",
   "metadata": {},
   "outputs": [],
   "source": [
    "# Fit the model\n",
    "projection_model.fit(x, y)"
   ]
  },
  {
   "cell_type": "code",
   "execution_count": null,
   "id": "f69ac9e8-d791-4880-9af7-6925f7348f1f",
   "metadata": {},
   "outputs": [],
   "source": [
    "# Show user the options for position and nationality\n",
    "show_nationality_options()\n",
    "show_position_options()"
   ]
  },
  {
   "cell_type": "code",
   "execution_count": null,
   "id": "cb8507b0-e99a-473a-97fa-42be62657e86",
   "metadata": {},
   "outputs": [],
   "source": [
    "project_another = True\n",
    "\n",
    "while project_another:\n",
    "    # Get user input for the player to make projections for\n",
    "    overall_pick = int(input(\"Enter the draft pick number: \"))  \n",
    "    player_age = float(input(\"Enter the player's age: \"))  \n",
    "    position = input(\"Enter the player's position: \")  \n",
    "    nationality = input(\"Enter the player's nationality (Country Code): \")  \n",
    "\n",
    "\n",
    "    new_data = np.array([[overall_pick, position, nationality, player_age]])  \n",
    "    new_data_df = pd.DataFrame(new_data, columns=[\"overall_pick\", \"position\", 'nationality', \"age\"])  \n",
    "    new_data_transformed = preprocessor.transform(new_data_df)  \n",
    "\n",
    "    prediction = projection_model.predict(new_data_transformed)  \n",
    "\n",
    "    for p in prediction:  \n",
    "        for p in prediction:\n",
    "            # Display the data back to the user\n",
    "            print_func = print_goalie_stats if position == 'G' else print_skater_stats  \n",
    "            print_func(p)\n",
    "    \n",
    "    project_another = input(\"Would you like to project another player? (y/n): \").lower() == 'y'"
   ]
  }
 ],
 "metadata": {
  "kernelspec": {
   "display_name": "Python 3 (ipykernel)",
   "language": "python",
   "name": "python3"
  },
  "language_info": {
   "codemirror_mode": {
    "name": "ipython",
    "version": 3
   },
   "file_extension": ".py",
   "mimetype": "text/x-python",
   "name": "python",
   "nbconvert_exporter": "python",
   "pygments_lexer": "ipython3",
   "version": "3.10.4"
  }
 },
 "nbformat": 4,
 "nbformat_minor": 5
}
